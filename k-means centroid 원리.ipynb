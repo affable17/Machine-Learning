{
 "cells": [
  {
   "cell_type": "markdown",
   "id": "37b9d836",
   "metadata": {},
   "source": [
    "유사한 데이터는 Centroid(중심점)로부터 가까이에 모여있다."
   ]
  },
  {
   "cell_type": "markdown",
   "id": "864a6012",
   "metadata": {},
   "source": [
    "\n",
    "#Step 1 : Centroid 배치\n",
    "\n",
    "* 클러스터의 개수를 의미하는 k를 정해 줘야 합니다\n",
    "* k의 값만큼 Centroid를 생성하여 임의로 배치합니다.\n",
    "\n",
    "#Step 2 : Cluster 형성\n",
    "\n",
    "생성한 Centroid와 각 데이터 사이의 거리를 계산하여 가까이에 있는 데이터들을 하나의 클러스터로 묶어줍니다.\n",
    "\n",
    "#Step 3 : Centroid 위치 갱신\n",
    "\n",
    "* 클러스터에 속해있는 데이터들의 중심으로 Centroid의 위치를 이동\n",
    "* 데이터들 사이의 중심을 찾기 위하여 평균값(means)을 사용\n",
    "\n",
    "#Step 4 : Cluster 재형성\n",
    "\n",
    "새롭게 위치한 Centroid를 기준으로 각 데이터와의 거리를 다시 계산하여 가까운 데이터들을 하나의 클러스터로 묶습니다.\n",
    "\n",
    "#Step 5 : Centroid 위치 갱신\n",
    "\n",
    "새롭게 형성된 클러스터의 중심으로 Centroid를 다시 이동시킵니다."
   ]
  },
  {
   "cell_type": "code",
   "execution_count": 2,
   "id": "f614ac1d",
   "metadata": {},
   "outputs": [],
   "source": [
    "from sklearn.cluster import KMeans"
   ]
  },
  {
   "cell_type": "code",
   "execution_count": 3,
   "id": "b916cc62",
   "metadata": {},
   "outputs": [],
   "source": [
    "model = KMeans(n_clusters=2, random_state=123)"
   ]
  },
  {
   "cell_type": "code",
   "execution_count": 4,
   "id": "54c2eb2a",
   "metadata": {},
   "outputs": [
    {
     "ename": "NameError",
     "evalue": "name 'scaled_df' is not defined",
     "output_type": "error",
     "traceback": [
      "\u001b[1;31m---------------------------------------------------------------------------\u001b[0m",
      "\u001b[1;31mNameError\u001b[0m                                 Traceback (most recent call last)",
      "Cell \u001b[1;32mIn[4], line 1\u001b[0m\n\u001b[1;32m----> 1\u001b[0m model\u001b[38;5;241m.\u001b[39mfit(\u001b[43mscaled_df\u001b[49m)\n",
      "\u001b[1;31mNameError\u001b[0m: name 'scaled_df' is not defined"
     ]
    }
   ],
   "source": [
    "model.fit(scaled_df)"
   ]
  },
  {
   "cell_type": "code",
   "execution_count": null,
   "id": "47dc30ca",
   "metadata": {},
   "outputs": [],
   "source": []
  },
  {
   "cell_type": "code",
   "execution_count": null,
   "id": "de798832",
   "metadata": {},
   "outputs": [],
   "source": []
  },
  {
   "cell_type": "code",
   "execution_count": null,
   "id": "9d1fbb67",
   "metadata": {},
   "outputs": [],
   "source": []
  },
  {
   "cell_type": "code",
   "execution_count": null,
   "id": "d15f4a08",
   "metadata": {},
   "outputs": [],
   "source": []
  },
  {
   "cell_type": "code",
   "execution_count": null,
   "id": "1cc576ba",
   "metadata": {},
   "outputs": [],
   "source": []
  },
  {
   "cell_type": "code",
   "execution_count": null,
   "id": "d2d72ca8",
   "metadata": {},
   "outputs": [],
   "source": []
  },
  {
   "cell_type": "code",
   "execution_count": null,
   "id": "12e642d0",
   "metadata": {},
   "outputs": [],
   "source": []
  },
  {
   "cell_type": "code",
   "execution_count": null,
   "id": "c546a324",
   "metadata": {},
   "outputs": [],
   "source": []
  }
 ],
 "metadata": {
  "kernelspec": {
   "display_name": "Python 3 (ipykernel)",
   "language": "python",
   "name": "python3"
  },
  "language_info": {
   "codemirror_mode": {
    "name": "ipython",
    "version": 3
   },
   "file_extension": ".py",
   "mimetype": "text/x-python",
   "name": "python",
   "nbconvert_exporter": "python",
   "pygments_lexer": "ipython3",
   "version": "3.9.18"
  },
  "toc": {
   "base_numbering": 1,
   "nav_menu": {},
   "number_sections": true,
   "sideBar": true,
   "skip_h1_title": false,
   "title_cell": "Table of Contents",
   "title_sidebar": "Contents",
   "toc_cell": false,
   "toc_position": {},
   "toc_section_display": true,
   "toc_window_display": false
  }
 },
 "nbformat": 4,
 "nbformat_minor": 5
}
