{
 "cells": [
  {
   "cell_type": "code",
   "execution_count": 2,
   "id": "b1015fcd",
   "metadata": {
    "collapsed": true
   },
   "outputs": [
    {
     "name": "stderr",
     "output_type": "stream",
     "text": [
      "--2023-12-31 16:34:52--  https://bit.ly/fruits_300_data\n",
      "Resolving bit.ly (bit.ly)... 67.199.248.10, 67.199.248.11\n",
      "Connecting to bit.ly (bit.ly)|67.199.248.10|:443... connected.\n",
      "HTTP request sent, awaiting response... 301 Moved Permanently\n",
      "Location: https://github.com/rickiepark/hg-mldl/raw/master/fruits_300.npy [following]\n",
      "--2023-12-31 16:34:53--  https://github.com/rickiepark/hg-mldl/raw/master/fruits_300.npy\n",
      "Resolving github.com (github.com)... 20.200.245.247\n",
      "Connecting to github.com (github.com)|20.200.245.247|:443... connected.\n",
      "HTTP request sent, awaiting response... 302 Found\n",
      "Location: https://raw.githubusercontent.com/rickiepark/hg-mldl/master/fruits_300.npy [following]\n",
      "--2023-12-31 16:34:53--  https://raw.githubusercontent.com/rickiepark/hg-mldl/master/fruits_300.npy\n",
      "Resolving raw.githubusercontent.com (raw.githubusercontent.com)... 185.199.108.133, 185.199.110.133, 185.199.109.133, ...\n",
      "Connecting to raw.githubusercontent.com (raw.githubusercontent.com)|185.199.108.133|:443... connected.\n",
      "HTTP request sent, awaiting response... 200 OK\n",
      "Length: 3000128 (2.9M) [application/octet-stream]\n",
      "Saving to: 'fruits_300.npy'\n",
      "\n",
      "     0K .......... .......... .......... .......... ..........  1% 6.19M 0s\n",
      "    50K .......... .......... .......... .......... ..........  3% 68.2M 0s\n",
      "   100K .......... .......... .......... .......... ..........  5% 6.93M 0s\n",
      "   150K .......... .......... .......... .......... ..........  6% 87.3M 0s\n",
      "   200K .......... .......... .......... .......... ..........  8% 93.4M 0s\n",
      "   250K .......... .......... .......... .......... .......... 10% 14.2M 0s\n",
      "   300K .......... .......... .......... .......... .......... 11% 97.8M 0s\n",
      "   350K .......... .......... .......... .......... .......... 13% 38.6M 0s\n",
      "   400K .......... .......... .......... .......... .......... 15% 8.49M 0s\n",
      "   450K .......... .......... .......... .......... .......... 17%  119M 0s\n",
      "   500K .......... .......... .......... .......... .......... 18% 98.9M 0s\n",
      "   550K .......... .......... .......... .......... .......... 20% 57.6M 0s\n",
      "   600K .......... .......... .......... .......... .......... 22% 61.0M 0s\n",
      "   650K .......... .......... .......... .......... .......... 23% 19.7M 0s\n",
      "   700K .......... .......... .......... .......... .......... 25% 26.8M 0s\n",
      "   750K .......... .......... .......... .......... .......... 27% 62.9M 0s\n",
      "   800K .......... .......... .......... .......... .......... 29%  125M 0s\n",
      "   850K .......... .......... .......... .......... .......... 30% 64.0M 0s\n",
      "   900K .......... .......... .......... .......... .......... 32% 86.3M 0s\n",
      "   950K .......... .......... .......... .......... .......... 34% 26.3M 0s\n",
      "  1000K .......... .......... .......... .......... .......... 35%  106M 0s\n",
      "  1050K .......... .......... .......... .......... .......... 37%  146M 0s\n",
      "  1100K .......... .......... .......... .......... .......... 39% 70.6M 0s\n",
      "  1150K .......... .......... .......... .......... .......... 40% 99.7M 0s\n",
      "  1200K .......... .......... .......... .......... .......... 42% 90.6M 0s\n",
      "  1250K .......... .......... .......... .......... .......... 44% 72.4M 0s\n",
      "  1300K .......... .......... .......... .......... .......... 46% 95.0M 0s\n",
      "  1350K .......... .......... .......... .......... .......... 47% 28.0M 0s\n",
      "  1400K .......... .......... .......... .......... .......... 49% 47.9M 0s\n",
      "  1450K .......... .......... .......... .......... .......... 51% 66.8M 0s\n",
      "  1500K .......... .......... .......... .......... .......... 52% 73.2M 0s\n",
      "  1550K .......... .......... .......... .......... .......... 54%  107M 0s\n",
      "  1600K .......... .......... .......... .......... .......... 56% 37.0M 0s\n",
      "  1650K .......... .......... .......... .......... .......... 58%  105M 0s\n",
      "  1700K .......... .......... .......... .......... .......... 59%  118M 0s\n",
      "  1750K .......... .......... .......... .......... .......... 61% 46.5M 0s\n",
      "  1800K .......... .......... .......... .......... .......... 63% 64.3M 0s\n",
      "  1850K .......... .......... .......... .......... .......... 64% 81.0M 0s\n",
      "  1900K .......... .......... .......... .......... .......... 66% 83.1M 0s\n",
      "  1950K .......... .......... .......... .......... .......... 68%  119M 0s\n",
      "  2000K .......... .......... .......... .......... .......... 69%  125M 0s\n",
      "  2050K .......... .......... .......... .......... .......... 71% 96.8M 0s\n",
      "  2100K .......... .......... .......... .......... .......... 73% 79.7M 0s\n",
      "  2150K .......... .......... .......... .......... .......... 75%  204M 0s\n",
      "  2200K .......... .......... .......... .......... .......... 76% 73.7M 0s\n",
      "  2250K .......... .......... .......... .......... .......... 78% 12.9M 0s\n",
      "  2300K .......... .......... .......... .......... .......... 80% 40.1M 0s\n",
      "  2350K .......... .......... .......... .......... .......... 81% 52.3M 0s\n",
      "  2400K .......... .......... .......... .......... .......... 83% 59.7M 0s\n",
      "  2450K .......... .......... .......... .......... .......... 85% 92.5M 0s\n",
      "  2500K .......... .......... .......... .......... .......... 87%  127M 0s\n",
      "  2550K .......... .......... .......... .......... .......... 88%  126M 0s\n",
      "  2600K .......... .......... .......... .......... .......... 90%  175M 0s\n",
      "  2650K .......... .......... .......... .......... .......... 92%  172M 0s\n",
      "  2700K .......... .......... .......... .......... .......... 93% 44.3M 0s\n",
      "  2750K .......... .......... .......... .......... .......... 95%  120M 0s\n",
      "  2800K .......... .......... .......... .......... .......... 97%  117M 0s\n",
      "  2850K .......... .......... .......... .......... .......... 98%  147M 0s\n",
      "  2900K .......... .......... .........                       100%  118M=0.07s\n",
      "\n",
      "2023-12-31 16:34:54 (43.1 MB/s) - 'fruits_300.npy' saved [3000128/3000128]\n",
      "\n"
     ]
    }
   ],
   "source": [
    "!wget \"https://bit.ly/fruits_300_data\" -O fruits_300.npy"
   ]
  },
  {
   "cell_type": "code",
   "execution_count": 4,
   "id": "d9acb7d7",
   "metadata": {},
   "outputs": [],
   "source": [
    "import numpy as np\n",
    "fruits = np.load('fruits_300.npy')\n",
    "fruits_2d = fruits.reshape(-1, 100*100)"
   ]
  },
  {
   "cell_type": "code",
   "execution_count": 5,
   "id": "87ec83a4",
   "metadata": {},
   "outputs": [
    {
     "name": "stdout",
     "output_type": "stream",
     "text": [
      "(300, 100, 100) (300, 10000)\n"
     ]
    }
   ],
   "source": [
    "print(fruits.shape, fruits_2d.shape)"
   ]
  },
  {
   "cell_type": "code",
   "execution_count": 8,
   "id": "7bd746f5",
   "metadata": {},
   "outputs": [],
   "source": [
    "from sklearn.cluster import KMeans"
   ]
  },
  {
   "cell_type": "code",
   "execution_count": 9,
   "id": "0a9a9cf5",
   "metadata": {
    "collapsed": true
   },
   "outputs": [
    {
     "name": "stderr",
     "output_type": "stream",
     "text": [
      "C:\\Users\\semin\\anaconda3\\lib\\site-packages\\sklearn\\cluster\\_kmeans.py:1412: FutureWarning: The default value of `n_init` will change from 10 to 'auto' in 1.4. Set the value of `n_init` explicitly to suppress the warning\n",
      "  self.copy_x = copy_x\n",
      "C:\\Users\\semin\\anaconda3\\lib\\site-packages\\sklearn\\cluster\\_kmeans.py:1436: UserWarning: KMeans is known to have a memory leak on Windows with MKL, when there are less chunks than available threads. You can avoid it by setting the environment variable OMP_NUM_THREADS=2.\n",
      "  self._algorithm = \"lloyd\"\n"
     ]
    },
    {
     "data": {
      "text/html": [
       "<style>#sk-container-id-1 {color: black;}#sk-container-id-1 pre{padding: 0;}#sk-container-id-1 div.sk-toggleable {background-color: white;}#sk-container-id-1 label.sk-toggleable__label {cursor: pointer;display: block;width: 100%;margin-bottom: 0;padding: 0.3em;box-sizing: border-box;text-align: center;}#sk-container-id-1 label.sk-toggleable__label-arrow:before {content: \"▸\";float: left;margin-right: 0.25em;color: #696969;}#sk-container-id-1 label.sk-toggleable__label-arrow:hover:before {color: black;}#sk-container-id-1 div.sk-estimator:hover label.sk-toggleable__label-arrow:before {color: black;}#sk-container-id-1 div.sk-toggleable__content {max-height: 0;max-width: 0;overflow: hidden;text-align: left;background-color: #f0f8ff;}#sk-container-id-1 div.sk-toggleable__content pre {margin: 0.2em;color: black;border-radius: 0.25em;background-color: #f0f8ff;}#sk-container-id-1 input.sk-toggleable__control:checked~div.sk-toggleable__content {max-height: 200px;max-width: 100%;overflow: auto;}#sk-container-id-1 input.sk-toggleable__control:checked~label.sk-toggleable__label-arrow:before {content: \"▾\";}#sk-container-id-1 div.sk-estimator input.sk-toggleable__control:checked~label.sk-toggleable__label {background-color: #d4ebff;}#sk-container-id-1 div.sk-label input.sk-toggleable__control:checked~label.sk-toggleable__label {background-color: #d4ebff;}#sk-container-id-1 input.sk-hidden--visually {border: 0;clip: rect(1px 1px 1px 1px);clip: rect(1px, 1px, 1px, 1px);height: 1px;margin: -1px;overflow: hidden;padding: 0;position: absolute;width: 1px;}#sk-container-id-1 div.sk-estimator {font-family: monospace;background-color: #f0f8ff;border: 1px dotted black;border-radius: 0.25em;box-sizing: border-box;margin-bottom: 0.5em;}#sk-container-id-1 div.sk-estimator:hover {background-color: #d4ebff;}#sk-container-id-1 div.sk-parallel-item::after {content: \"\";width: 100%;border-bottom: 1px solid gray;flex-grow: 1;}#sk-container-id-1 div.sk-label:hover label.sk-toggleable__label {background-color: #d4ebff;}#sk-container-id-1 div.sk-serial::before {content: \"\";position: absolute;border-left: 1px solid gray;box-sizing: border-box;top: 0;bottom: 0;left: 50%;z-index: 0;}#sk-container-id-1 div.sk-serial {display: flex;flex-direction: column;align-items: center;background-color: white;padding-right: 0.2em;padding-left: 0.2em;position: relative;}#sk-container-id-1 div.sk-item {position: relative;z-index: 1;}#sk-container-id-1 div.sk-parallel {display: flex;align-items: stretch;justify-content: center;background-color: white;position: relative;}#sk-container-id-1 div.sk-item::before, #sk-container-id-1 div.sk-parallel-item::before {content: \"\";position: absolute;border-left: 1px solid gray;box-sizing: border-box;top: 0;bottom: 0;left: 50%;z-index: -1;}#sk-container-id-1 div.sk-parallel-item {display: flex;flex-direction: column;z-index: 1;position: relative;background-color: white;}#sk-container-id-1 div.sk-parallel-item:first-child::after {align-self: flex-end;width: 50%;}#sk-container-id-1 div.sk-parallel-item:last-child::after {align-self: flex-start;width: 50%;}#sk-container-id-1 div.sk-parallel-item:only-child::after {width: 0;}#sk-container-id-1 div.sk-dashed-wrapped {border: 1px dashed gray;margin: 0 0.4em 0.5em 0.4em;box-sizing: border-box;padding-bottom: 0.4em;background-color: white;}#sk-container-id-1 div.sk-label label {font-family: monospace;font-weight: bold;display: inline-block;line-height: 1.2em;}#sk-container-id-1 div.sk-label-container {text-align: center;}#sk-container-id-1 div.sk-container {/* jupyter's `normalize.less` sets `[hidden] { display: none; }` but bootstrap.min.css set `[hidden] { display: none !important; }` so we also need the `!important` here to be able to override the default hidden behavior on the sphinx rendered scikit-learn.org. See: https://github.com/scikit-learn/scikit-learn/issues/21755 */display: inline-block !important;position: relative;}#sk-container-id-1 div.sk-text-repr-fallback {display: none;}</style><div id=\"sk-container-id-1\" class=\"sk-top-container\"><div class=\"sk-text-repr-fallback\"><pre>KMeans(n_clusters=3, random_state=42)</pre><b>In a Jupyter environment, please rerun this cell to show the HTML representation or trust the notebook. <br />On GitHub, the HTML representation is unable to render, please try loading this page with nbviewer.org.</b></div><div class=\"sk-container\" hidden><div class=\"sk-item\"><div class=\"sk-estimator sk-toggleable\"><input class=\"sk-toggleable__control sk-hidden--visually\" id=\"sk-estimator-id-1\" type=\"checkbox\" checked><label for=\"sk-estimator-id-1\" class=\"sk-toggleable__label sk-toggleable__label-arrow\">KMeans</label><div class=\"sk-toggleable__content\"><pre>KMeans(n_clusters=3, random_state=42)</pre></div></div></div></div></div>"
      ],
      "text/plain": [
       "KMeans(n_clusters=3, random_state=42)"
      ]
     },
     "execution_count": 9,
     "metadata": {},
     "output_type": "execute_result"
    }
   ],
   "source": [
    "km = KMeans(n_clusters=3, random_state=42)\n",
    "km.fit(fruits_2d)"
   ]
  },
  {
   "cell_type": "code",
   "execution_count": null,
   "id": "b83dc5d0",
   "metadata": {},
   "outputs": [],
   "source": []
  }
 ],
 "metadata": {
  "kernelspec": {
   "display_name": "Python 3 (ipykernel)",
   "language": "python",
   "name": "python3"
  },
  "language_info": {
   "codemirror_mode": {
    "name": "ipython",
    "version": 3
   },
   "file_extension": ".py",
   "mimetype": "text/x-python",
   "name": "python",
   "nbconvert_exporter": "python",
   "pygments_lexer": "ipython3",
   "version": "3.9.18"
  },
  "toc": {
   "base_numbering": 1,
   "nav_menu": {},
   "number_sections": true,
   "sideBar": true,
   "skip_h1_title": false,
   "title_cell": "Table of Contents",
   "title_sidebar": "Contents",
   "toc_cell": false,
   "toc_position": {},
   "toc_section_display": true,
   "toc_window_display": false
  }
 },
 "nbformat": 4,
 "nbformat_minor": 5
}
